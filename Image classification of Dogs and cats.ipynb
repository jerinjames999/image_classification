{
  "nbformat": 4,
  "nbformat_minor": 0,
  "metadata": {
    "colab": {
      "name": "Image classification of Dogs and cats.ipynb",
      "provenance": [],
      "collapsed_sections": []
    },
    "kernelspec": {
      "name": "python3",
      "display_name": "Python 3"
    },
    "accelerator": "GPU"
  },
  "cells": [
    {
      "cell_type": "markdown",
      "metadata": {
        "id": "H8ABS2JSBDj7"
      },
      "source": [
        "### Downloading the Dogs vs Cats dataset\n"
      ]
    },
    {
      "cell_type": "code",
      "metadata": {
        "colab": {
          "base_uri": "https://localhost:8080/"
        },
        "id": "3Nbiy32oAq7O",
        "outputId": "d52a0448-3e75-4af1-d51d-7cdb879c1178"
      },
      "source": [
        " !wget --no-check-certificate \\\n",
        "    https://storage.googleapis.com/mledu-datasets/cats_and_dogs_filtered.zip \\\n",
        "    -O ./cats_and_dogs_filtered.zip"
      ],
      "execution_count": 1,
      "outputs": [
        {
          "output_type": "stream",
          "text": [
            "--2021-06-27 06:36:56--  https://storage.googleapis.com/mledu-datasets/cats_and_dogs_filtered.zip\n",
            "Resolving storage.googleapis.com (storage.googleapis.com)... 74.125.195.128, 172.253.117.128, 74.125.142.128, ...\n",
            "Connecting to storage.googleapis.com (storage.googleapis.com)|74.125.195.128|:443... connected.\n",
            "HTTP request sent, awaiting response... 200 OK\n",
            "Length: 68606236 (65M) [application/zip]\n",
            "Saving to: ‘./cats_and_dogs_filtered.zip’\n",
            "\n",
            "./cats_and_dogs_fil 100%[===================>]  65.43M   179MB/s    in 0.4s    \n",
            "\n",
            "2021-06-27 06:36:57 (179 MB/s) - ‘./cats_and_dogs_filtered.zip’ saved [68606236/68606236]\n",
            "\n"
          ],
          "name": "stdout"
        }
      ]
    },
    {
      "cell_type": "markdown",
      "metadata": {
        "id": "Lkyu9fUhBq6S"
      },
      "source": [
        "## Dataset preprocessing\n"
      ]
    },
    {
      "cell_type": "code",
      "metadata": {
        "id": "w0FDJ34J5C9C",
        "colab": {
          "base_uri": "https://localhost:8080/",
          "height": 35
        },
        "outputId": "d56f64d0-0e60-4a92-c3ff-3d031d7aa959"
      },
      "source": [
        "import os ## it helps us to work with folders,locate files and paths.\n",
        "import zipfile ## it helps to extract zip files\n",
        "import numpy as np\n",
        "import tensorflow as tf\n",
        "import matplotlib.pyplot as plt\n",
        "\n",
        "from tqdm import tqdm_notebook ## helps us to visualize any progress in the project\n",
        "from tensorflow.keras.preprocessing.image import ImageDataGenerator ## it helps us to create automatic Image preprocessing pipeline\n",
        "\n",
        "%matplotlib inline\n",
        "tf.__version__"
      ],
      "execution_count": 2,
      "outputs": [
        {
          "output_type": "execute_result",
          "data": {
            "application/vnd.google.colaboratory.intrinsic+json": {
              "type": "string"
            },
            "text/plain": [
              "'2.5.0'"
            ]
          },
          "metadata": {
            "tags": []
          },
          "execution_count": 2
        }
      ]
    },
    {
      "cell_type": "code",
      "metadata": {
        "id": "4cOfoRma9iTU"
      },
      "source": [
        "dataset_path = './cats_and_dogs_filtered.zip'\n",
        "zip_object = zipfile.ZipFile(dataset_path, mode = 'r')"
      ],
      "execution_count": 3,
      "outputs": []
    },
    {
      "cell_type": "code",
      "metadata": {
        "id": "skmHqtY7-U-V"
      },
      "source": [
        "zip_object.extractall('./')"
      ],
      "execution_count": 4,
      "outputs": []
    },
    {
      "cell_type": "code",
      "metadata": {
        "id": "FjTtnW8P_PXY"
      },
      "source": [
        "zip_object.close()"
      ],
      "execution_count": 5,
      "outputs": []
    },
    {
      "cell_type": "code",
      "metadata": {
        "id": "IB5SpF5o_UHn"
      },
      "source": [
        "## to use ImageDataGenerator we need to have all the classes in different folders"
      ],
      "execution_count": 6,
      "outputs": []
    },
    {
      "cell_type": "code",
      "metadata": {
        "id": "RFUta5z3AKYV"
      },
      "source": [
        "dataset_path_new = './cats_and_dogs_filtered/'\n",
        "train_dr = os.path.join(dataset_path_new,'train')\n",
        "validation_dr = os.path.join(dataset_path_new, 'validation')"
      ],
      "execution_count": 7,
      "outputs": []
    },
    {
      "cell_type": "code",
      "metadata": {
        "id": "n_PNj2KlNmih",
        "colab": {
          "base_uri": "https://localhost:8080/",
          "height": 35
        },
        "outputId": "6a382978-7b7e-40a4-bd40-f28c5ba0e9e0"
      },
      "source": [
        "train_dr"
      ],
      "execution_count": 8,
      "outputs": [
        {
          "output_type": "execute_result",
          "data": {
            "application/vnd.google.colaboratory.intrinsic+json": {
              "type": "string"
            },
            "text/plain": [
              "'./cats_and_dogs_filtered/train'"
            ]
          },
          "metadata": {
            "tags": []
          },
          "execution_count": 8
        }
      ]
    },
    {
      "cell_type": "markdown",
      "metadata": {
        "id": "9JwYfXpECChV"
      },
      "source": [
        "## Building the model"
      ]
    },
    {
      "cell_type": "code",
      "metadata": {
        "id": "r4JcyS2gBXUX"
      },
      "source": [
        "## Loading the pre-traine model(MobileNetV2)\n",
        "IMG_SHAPE = (128,128 , 3)"
      ],
      "execution_count": 9,
      "outputs": []
    },
    {
      "cell_type": "markdown",
      "metadata": {
        "id": "XikZ-fJ8CJAV"
      },
      "source": [
        "####Loading MobileNetV2 - Pre-trained model"
      ]
    },
    {
      "cell_type": "code",
      "metadata": {
        "id": "-uqHXRPRCS0y"
      },
      "source": [
        "## many models are there in keras, input shape is fixed for any CNN, Include top should have to be False as this model is trained in the imagenet dataset so we want to change the head of the model (the final layer) so that we can customize the model for our purpose\n",
        "## weights that we want are the weights of it by training in the IMageNet dataset.\n",
        "base_model = tf.keras.applications.MobileNetV2(input_shape = IMG_SHAPE, include_top = False, weights='imagenet')"
      ],
      "execution_count": 10,
      "outputs": []
    },
    {
      "cell_type": "code",
      "metadata": {
        "id": "Fjpm0r2vDclk",
        "colab": {
          "base_uri": "https://localhost:8080/"
        },
        "outputId": "1fcc7bb6-0593-4d47-e5c5-3a9aea6de92c"
      },
      "source": [
        "## To check the model Artchiture\n",
        "base_model.summary()"
      ],
      "execution_count": 11,
      "outputs": [
        {
          "output_type": "stream",
          "text": [
            "Model: \"mobilenetv2_1.00_128\"\n",
            "__________________________________________________________________________________________________\n",
            "Layer (type)                    Output Shape         Param #     Connected to                     \n",
            "==================================================================================================\n",
            "input_1 (InputLayer)            [(None, 128, 128, 3) 0                                            \n",
            "__________________________________________________________________________________________________\n",
            "Conv1 (Conv2D)                  (None, 64, 64, 32)   864         input_1[0][0]                    \n",
            "__________________________________________________________________________________________________\n",
            "bn_Conv1 (BatchNormalization)   (None, 64, 64, 32)   128         Conv1[0][0]                      \n",
            "__________________________________________________________________________________________________\n",
            "Conv1_relu (ReLU)               (None, 64, 64, 32)   0           bn_Conv1[0][0]                   \n",
            "__________________________________________________________________________________________________\n",
            "expanded_conv_depthwise (Depthw (None, 64, 64, 32)   288         Conv1_relu[0][0]                 \n",
            "__________________________________________________________________________________________________\n",
            "expanded_conv_depthwise_BN (Bat (None, 64, 64, 32)   128         expanded_conv_depthwise[0][0]    \n",
            "__________________________________________________________________________________________________\n",
            "expanded_conv_depthwise_relu (R (None, 64, 64, 32)   0           expanded_conv_depthwise_BN[0][0] \n",
            "__________________________________________________________________________________________________\n",
            "expanded_conv_project (Conv2D)  (None, 64, 64, 16)   512         expanded_conv_depthwise_relu[0][0\n",
            "__________________________________________________________________________________________________\n",
            "expanded_conv_project_BN (Batch (None, 64, 64, 16)   64          expanded_conv_project[0][0]      \n",
            "__________________________________________________________________________________________________\n",
            "block_1_expand (Conv2D)         (None, 64, 64, 96)   1536        expanded_conv_project_BN[0][0]   \n",
            "__________________________________________________________________________________________________\n",
            "block_1_expand_BN (BatchNormali (None, 64, 64, 96)   384         block_1_expand[0][0]             \n",
            "__________________________________________________________________________________________________\n",
            "block_1_expand_relu (ReLU)      (None, 64, 64, 96)   0           block_1_expand_BN[0][0]          \n",
            "__________________________________________________________________________________________________\n",
            "block_1_pad (ZeroPadding2D)     (None, 65, 65, 96)   0           block_1_expand_relu[0][0]        \n",
            "__________________________________________________________________________________________________\n",
            "block_1_depthwise (DepthwiseCon (None, 32, 32, 96)   864         block_1_pad[0][0]                \n",
            "__________________________________________________________________________________________________\n",
            "block_1_depthwise_BN (BatchNorm (None, 32, 32, 96)   384         block_1_depthwise[0][0]          \n",
            "__________________________________________________________________________________________________\n",
            "block_1_depthwise_relu (ReLU)   (None, 32, 32, 96)   0           block_1_depthwise_BN[0][0]       \n",
            "__________________________________________________________________________________________________\n",
            "block_1_project (Conv2D)        (None, 32, 32, 24)   2304        block_1_depthwise_relu[0][0]     \n",
            "__________________________________________________________________________________________________\n",
            "block_1_project_BN (BatchNormal (None, 32, 32, 24)   96          block_1_project[0][0]            \n",
            "__________________________________________________________________________________________________\n",
            "block_2_expand (Conv2D)         (None, 32, 32, 144)  3456        block_1_project_BN[0][0]         \n",
            "__________________________________________________________________________________________________\n",
            "block_2_expand_BN (BatchNormali (None, 32, 32, 144)  576         block_2_expand[0][0]             \n",
            "__________________________________________________________________________________________________\n",
            "block_2_expand_relu (ReLU)      (None, 32, 32, 144)  0           block_2_expand_BN[0][0]          \n",
            "__________________________________________________________________________________________________\n",
            "block_2_depthwise (DepthwiseCon (None, 32, 32, 144)  1296        block_2_expand_relu[0][0]        \n",
            "__________________________________________________________________________________________________\n",
            "block_2_depthwise_BN (BatchNorm (None, 32, 32, 144)  576         block_2_depthwise[0][0]          \n",
            "__________________________________________________________________________________________________\n",
            "block_2_depthwise_relu (ReLU)   (None, 32, 32, 144)  0           block_2_depthwise_BN[0][0]       \n",
            "__________________________________________________________________________________________________\n",
            "block_2_project (Conv2D)        (None, 32, 32, 24)   3456        block_2_depthwise_relu[0][0]     \n",
            "__________________________________________________________________________________________________\n",
            "block_2_project_BN (BatchNormal (None, 32, 32, 24)   96          block_2_project[0][0]            \n",
            "__________________________________________________________________________________________________\n",
            "block_2_add (Add)               (None, 32, 32, 24)   0           block_1_project_BN[0][0]         \n",
            "                                                                 block_2_project_BN[0][0]         \n",
            "__________________________________________________________________________________________________\n",
            "block_3_expand (Conv2D)         (None, 32, 32, 144)  3456        block_2_add[0][0]                \n",
            "__________________________________________________________________________________________________\n",
            "block_3_expand_BN (BatchNormali (None, 32, 32, 144)  576         block_3_expand[0][0]             \n",
            "__________________________________________________________________________________________________\n",
            "block_3_expand_relu (ReLU)      (None, 32, 32, 144)  0           block_3_expand_BN[0][0]          \n",
            "__________________________________________________________________________________________________\n",
            "block_3_pad (ZeroPadding2D)     (None, 33, 33, 144)  0           block_3_expand_relu[0][0]        \n",
            "__________________________________________________________________________________________________\n",
            "block_3_depthwise (DepthwiseCon (None, 16, 16, 144)  1296        block_3_pad[0][0]                \n",
            "__________________________________________________________________________________________________\n",
            "block_3_depthwise_BN (BatchNorm (None, 16, 16, 144)  576         block_3_depthwise[0][0]          \n",
            "__________________________________________________________________________________________________\n",
            "block_3_depthwise_relu (ReLU)   (None, 16, 16, 144)  0           block_3_depthwise_BN[0][0]       \n",
            "__________________________________________________________________________________________________\n",
            "block_3_project (Conv2D)        (None, 16, 16, 32)   4608        block_3_depthwise_relu[0][0]     \n",
            "__________________________________________________________________________________________________\n",
            "block_3_project_BN (BatchNormal (None, 16, 16, 32)   128         block_3_project[0][0]            \n",
            "__________________________________________________________________________________________________\n",
            "block_4_expand (Conv2D)         (None, 16, 16, 192)  6144        block_3_project_BN[0][0]         \n",
            "__________________________________________________________________________________________________\n",
            "block_4_expand_BN (BatchNormali (None, 16, 16, 192)  768         block_4_expand[0][0]             \n",
            "__________________________________________________________________________________________________\n",
            "block_4_expand_relu (ReLU)      (None, 16, 16, 192)  0           block_4_expand_BN[0][0]          \n",
            "__________________________________________________________________________________________________\n",
            "block_4_depthwise (DepthwiseCon (None, 16, 16, 192)  1728        block_4_expand_relu[0][0]        \n",
            "__________________________________________________________________________________________________\n",
            "block_4_depthwise_BN (BatchNorm (None, 16, 16, 192)  768         block_4_depthwise[0][0]          \n",
            "__________________________________________________________________________________________________\n",
            "block_4_depthwise_relu (ReLU)   (None, 16, 16, 192)  0           block_4_depthwise_BN[0][0]       \n",
            "__________________________________________________________________________________________________\n",
            "block_4_project (Conv2D)        (None, 16, 16, 32)   6144        block_4_depthwise_relu[0][0]     \n",
            "__________________________________________________________________________________________________\n",
            "block_4_project_BN (BatchNormal (None, 16, 16, 32)   128         block_4_project[0][0]            \n",
            "__________________________________________________________________________________________________\n",
            "block_4_add (Add)               (None, 16, 16, 32)   0           block_3_project_BN[0][0]         \n",
            "                                                                 block_4_project_BN[0][0]         \n",
            "__________________________________________________________________________________________________\n",
            "block_5_expand (Conv2D)         (None, 16, 16, 192)  6144        block_4_add[0][0]                \n",
            "__________________________________________________________________________________________________\n",
            "block_5_expand_BN (BatchNormali (None, 16, 16, 192)  768         block_5_expand[0][0]             \n",
            "__________________________________________________________________________________________________\n",
            "block_5_expand_relu (ReLU)      (None, 16, 16, 192)  0           block_5_expand_BN[0][0]          \n",
            "__________________________________________________________________________________________________\n",
            "block_5_depthwise (DepthwiseCon (None, 16, 16, 192)  1728        block_5_expand_relu[0][0]        \n",
            "__________________________________________________________________________________________________\n",
            "block_5_depthwise_BN (BatchNorm (None, 16, 16, 192)  768         block_5_depthwise[0][0]          \n",
            "__________________________________________________________________________________________________\n",
            "block_5_depthwise_relu (ReLU)   (None, 16, 16, 192)  0           block_5_depthwise_BN[0][0]       \n",
            "__________________________________________________________________________________________________\n",
            "block_5_project (Conv2D)        (None, 16, 16, 32)   6144        block_5_depthwise_relu[0][0]     \n",
            "__________________________________________________________________________________________________\n",
            "block_5_project_BN (BatchNormal (None, 16, 16, 32)   128         block_5_project[0][0]            \n",
            "__________________________________________________________________________________________________\n",
            "block_5_add (Add)               (None, 16, 16, 32)   0           block_4_add[0][0]                \n",
            "                                                                 block_5_project_BN[0][0]         \n",
            "__________________________________________________________________________________________________\n",
            "block_6_expand (Conv2D)         (None, 16, 16, 192)  6144        block_5_add[0][0]                \n",
            "__________________________________________________________________________________________________\n",
            "block_6_expand_BN (BatchNormali (None, 16, 16, 192)  768         block_6_expand[0][0]             \n",
            "__________________________________________________________________________________________________\n",
            "block_6_expand_relu (ReLU)      (None, 16, 16, 192)  0           block_6_expand_BN[0][0]          \n",
            "__________________________________________________________________________________________________\n",
            "block_6_pad (ZeroPadding2D)     (None, 17, 17, 192)  0           block_6_expand_relu[0][0]        \n",
            "__________________________________________________________________________________________________\n",
            "block_6_depthwise (DepthwiseCon (None, 8, 8, 192)    1728        block_6_pad[0][0]                \n",
            "__________________________________________________________________________________________________\n",
            "block_6_depthwise_BN (BatchNorm (None, 8, 8, 192)    768         block_6_depthwise[0][0]          \n",
            "__________________________________________________________________________________________________\n",
            "block_6_depthwise_relu (ReLU)   (None, 8, 8, 192)    0           block_6_depthwise_BN[0][0]       \n",
            "__________________________________________________________________________________________________\n",
            "block_6_project (Conv2D)        (None, 8, 8, 64)     12288       block_6_depthwise_relu[0][0]     \n",
            "__________________________________________________________________________________________________\n",
            "block_6_project_BN (BatchNormal (None, 8, 8, 64)     256         block_6_project[0][0]            \n",
            "__________________________________________________________________________________________________\n",
            "block_7_expand (Conv2D)         (None, 8, 8, 384)    24576       block_6_project_BN[0][0]         \n",
            "__________________________________________________________________________________________________\n",
            "block_7_expand_BN (BatchNormali (None, 8, 8, 384)    1536        block_7_expand[0][0]             \n",
            "__________________________________________________________________________________________________\n",
            "block_7_expand_relu (ReLU)      (None, 8, 8, 384)    0           block_7_expand_BN[0][0]          \n",
            "__________________________________________________________________________________________________\n",
            "block_7_depthwise (DepthwiseCon (None, 8, 8, 384)    3456        block_7_expand_relu[0][0]        \n",
            "__________________________________________________________________________________________________\n",
            "block_7_depthwise_BN (BatchNorm (None, 8, 8, 384)    1536        block_7_depthwise[0][0]          \n",
            "__________________________________________________________________________________________________\n",
            "block_7_depthwise_relu (ReLU)   (None, 8, 8, 384)    0           block_7_depthwise_BN[0][0]       \n",
            "__________________________________________________________________________________________________\n",
            "block_7_project (Conv2D)        (None, 8, 8, 64)     24576       block_7_depthwise_relu[0][0]     \n",
            "__________________________________________________________________________________________________\n",
            "block_7_project_BN (BatchNormal (None, 8, 8, 64)     256         block_7_project[0][0]            \n",
            "__________________________________________________________________________________________________\n",
            "block_7_add (Add)               (None, 8, 8, 64)     0           block_6_project_BN[0][0]         \n",
            "                                                                 block_7_project_BN[0][0]         \n",
            "__________________________________________________________________________________________________\n",
            "block_8_expand (Conv2D)         (None, 8, 8, 384)    24576       block_7_add[0][0]                \n",
            "__________________________________________________________________________________________________\n",
            "block_8_expand_BN (BatchNormali (None, 8, 8, 384)    1536        block_8_expand[0][0]             \n",
            "__________________________________________________________________________________________________\n",
            "block_8_expand_relu (ReLU)      (None, 8, 8, 384)    0           block_8_expand_BN[0][0]          \n",
            "__________________________________________________________________________________________________\n",
            "block_8_depthwise (DepthwiseCon (None, 8, 8, 384)    3456        block_8_expand_relu[0][0]        \n",
            "__________________________________________________________________________________________________\n",
            "block_8_depthwise_BN (BatchNorm (None, 8, 8, 384)    1536        block_8_depthwise[0][0]          \n",
            "__________________________________________________________________________________________________\n",
            "block_8_depthwise_relu (ReLU)   (None, 8, 8, 384)    0           block_8_depthwise_BN[0][0]       \n",
            "__________________________________________________________________________________________________\n",
            "block_8_project (Conv2D)        (None, 8, 8, 64)     24576       block_8_depthwise_relu[0][0]     \n",
            "__________________________________________________________________________________________________\n",
            "block_8_project_BN (BatchNormal (None, 8, 8, 64)     256         block_8_project[0][0]            \n",
            "__________________________________________________________________________________________________\n",
            "block_8_add (Add)               (None, 8, 8, 64)     0           block_7_add[0][0]                \n",
            "                                                                 block_8_project_BN[0][0]         \n",
            "__________________________________________________________________________________________________\n",
            "block_9_expand (Conv2D)         (None, 8, 8, 384)    24576       block_8_add[0][0]                \n",
            "__________________________________________________________________________________________________\n",
            "block_9_expand_BN (BatchNormali (None, 8, 8, 384)    1536        block_9_expand[0][0]             \n",
            "__________________________________________________________________________________________________\n",
            "block_9_expand_relu (ReLU)      (None, 8, 8, 384)    0           block_9_expand_BN[0][0]          \n",
            "__________________________________________________________________________________________________\n",
            "block_9_depthwise (DepthwiseCon (None, 8, 8, 384)    3456        block_9_expand_relu[0][0]        \n",
            "__________________________________________________________________________________________________\n",
            "block_9_depthwise_BN (BatchNorm (None, 8, 8, 384)    1536        block_9_depthwise[0][0]          \n",
            "__________________________________________________________________________________________________\n",
            "block_9_depthwise_relu (ReLU)   (None, 8, 8, 384)    0           block_9_depthwise_BN[0][0]       \n",
            "__________________________________________________________________________________________________\n",
            "block_9_project (Conv2D)        (None, 8, 8, 64)     24576       block_9_depthwise_relu[0][0]     \n",
            "__________________________________________________________________________________________________\n",
            "block_9_project_BN (BatchNormal (None, 8, 8, 64)     256         block_9_project[0][0]            \n",
            "__________________________________________________________________________________________________\n",
            "block_9_add (Add)               (None, 8, 8, 64)     0           block_8_add[0][0]                \n",
            "                                                                 block_9_project_BN[0][0]         \n",
            "__________________________________________________________________________________________________\n",
            "block_10_expand (Conv2D)        (None, 8, 8, 384)    24576       block_9_add[0][0]                \n",
            "__________________________________________________________________________________________________\n",
            "block_10_expand_BN (BatchNormal (None, 8, 8, 384)    1536        block_10_expand[0][0]            \n",
            "__________________________________________________________________________________________________\n",
            "block_10_expand_relu (ReLU)     (None, 8, 8, 384)    0           block_10_expand_BN[0][0]         \n",
            "__________________________________________________________________________________________________\n",
            "block_10_depthwise (DepthwiseCo (None, 8, 8, 384)    3456        block_10_expand_relu[0][0]       \n",
            "__________________________________________________________________________________________________\n",
            "block_10_depthwise_BN (BatchNor (None, 8, 8, 384)    1536        block_10_depthwise[0][0]         \n",
            "__________________________________________________________________________________________________\n",
            "block_10_depthwise_relu (ReLU)  (None, 8, 8, 384)    0           block_10_depthwise_BN[0][0]      \n",
            "__________________________________________________________________________________________________\n",
            "block_10_project (Conv2D)       (None, 8, 8, 96)     36864       block_10_depthwise_relu[0][0]    \n",
            "__________________________________________________________________________________________________\n",
            "block_10_project_BN (BatchNorma (None, 8, 8, 96)     384         block_10_project[0][0]           \n",
            "__________________________________________________________________________________________________\n",
            "block_11_expand (Conv2D)        (None, 8, 8, 576)    55296       block_10_project_BN[0][0]        \n",
            "__________________________________________________________________________________________________\n",
            "block_11_expand_BN (BatchNormal (None, 8, 8, 576)    2304        block_11_expand[0][0]            \n",
            "__________________________________________________________________________________________________\n",
            "block_11_expand_relu (ReLU)     (None, 8, 8, 576)    0           block_11_expand_BN[0][0]         \n",
            "__________________________________________________________________________________________________\n",
            "block_11_depthwise (DepthwiseCo (None, 8, 8, 576)    5184        block_11_expand_relu[0][0]       \n",
            "__________________________________________________________________________________________________\n",
            "block_11_depthwise_BN (BatchNor (None, 8, 8, 576)    2304        block_11_depthwise[0][0]         \n",
            "__________________________________________________________________________________________________\n",
            "block_11_depthwise_relu (ReLU)  (None, 8, 8, 576)    0           block_11_depthwise_BN[0][0]      \n",
            "__________________________________________________________________________________________________\n",
            "block_11_project (Conv2D)       (None, 8, 8, 96)     55296       block_11_depthwise_relu[0][0]    \n",
            "__________________________________________________________________________________________________\n",
            "block_11_project_BN (BatchNorma (None, 8, 8, 96)     384         block_11_project[0][0]           \n",
            "__________________________________________________________________________________________________\n",
            "block_11_add (Add)              (None, 8, 8, 96)     0           block_10_project_BN[0][0]        \n",
            "                                                                 block_11_project_BN[0][0]        \n",
            "__________________________________________________________________________________________________\n",
            "block_12_expand (Conv2D)        (None, 8, 8, 576)    55296       block_11_add[0][0]               \n",
            "__________________________________________________________________________________________________\n",
            "block_12_expand_BN (BatchNormal (None, 8, 8, 576)    2304        block_12_expand[0][0]            \n",
            "__________________________________________________________________________________________________\n",
            "block_12_expand_relu (ReLU)     (None, 8, 8, 576)    0           block_12_expand_BN[0][0]         \n",
            "__________________________________________________________________________________________________\n",
            "block_12_depthwise (DepthwiseCo (None, 8, 8, 576)    5184        block_12_expand_relu[0][0]       \n",
            "__________________________________________________________________________________________________\n",
            "block_12_depthwise_BN (BatchNor (None, 8, 8, 576)    2304        block_12_depthwise[0][0]         \n",
            "__________________________________________________________________________________________________\n",
            "block_12_depthwise_relu (ReLU)  (None, 8, 8, 576)    0           block_12_depthwise_BN[0][0]      \n",
            "__________________________________________________________________________________________________\n",
            "block_12_project (Conv2D)       (None, 8, 8, 96)     55296       block_12_depthwise_relu[0][0]    \n",
            "__________________________________________________________________________________________________\n",
            "block_12_project_BN (BatchNorma (None, 8, 8, 96)     384         block_12_project[0][0]           \n",
            "__________________________________________________________________________________________________\n",
            "block_12_add (Add)              (None, 8, 8, 96)     0           block_11_add[0][0]               \n",
            "                                                                 block_12_project_BN[0][0]        \n",
            "__________________________________________________________________________________________________\n",
            "block_13_expand (Conv2D)        (None, 8, 8, 576)    55296       block_12_add[0][0]               \n",
            "__________________________________________________________________________________________________\n",
            "block_13_expand_BN (BatchNormal (None, 8, 8, 576)    2304        block_13_expand[0][0]            \n",
            "__________________________________________________________________________________________________\n",
            "block_13_expand_relu (ReLU)     (None, 8, 8, 576)    0           block_13_expand_BN[0][0]         \n",
            "__________________________________________________________________________________________________\n",
            "block_13_pad (ZeroPadding2D)    (None, 9, 9, 576)    0           block_13_expand_relu[0][0]       \n",
            "__________________________________________________________________________________________________\n",
            "block_13_depthwise (DepthwiseCo (None, 4, 4, 576)    5184        block_13_pad[0][0]               \n",
            "__________________________________________________________________________________________________\n",
            "block_13_depthwise_BN (BatchNor (None, 4, 4, 576)    2304        block_13_depthwise[0][0]         \n",
            "__________________________________________________________________________________________________\n",
            "block_13_depthwise_relu (ReLU)  (None, 4, 4, 576)    0           block_13_depthwise_BN[0][0]      \n",
            "__________________________________________________________________________________________________\n",
            "block_13_project (Conv2D)       (None, 4, 4, 160)    92160       block_13_depthwise_relu[0][0]    \n",
            "__________________________________________________________________________________________________\n",
            "block_13_project_BN (BatchNorma (None, 4, 4, 160)    640         block_13_project[0][0]           \n",
            "__________________________________________________________________________________________________\n",
            "block_14_expand (Conv2D)        (None, 4, 4, 960)    153600      block_13_project_BN[0][0]        \n",
            "__________________________________________________________________________________________________\n",
            "block_14_expand_BN (BatchNormal (None, 4, 4, 960)    3840        block_14_expand[0][0]            \n",
            "__________________________________________________________________________________________________\n",
            "block_14_expand_relu (ReLU)     (None, 4, 4, 960)    0           block_14_expand_BN[0][0]         \n",
            "__________________________________________________________________________________________________\n",
            "block_14_depthwise (DepthwiseCo (None, 4, 4, 960)    8640        block_14_expand_relu[0][0]       \n",
            "__________________________________________________________________________________________________\n",
            "block_14_depthwise_BN (BatchNor (None, 4, 4, 960)    3840        block_14_depthwise[0][0]         \n",
            "__________________________________________________________________________________________________\n",
            "block_14_depthwise_relu (ReLU)  (None, 4, 4, 960)    0           block_14_depthwise_BN[0][0]      \n",
            "__________________________________________________________________________________________________\n",
            "block_14_project (Conv2D)       (None, 4, 4, 160)    153600      block_14_depthwise_relu[0][0]    \n",
            "__________________________________________________________________________________________________\n",
            "block_14_project_BN (BatchNorma (None, 4, 4, 160)    640         block_14_project[0][0]           \n",
            "__________________________________________________________________________________________________\n",
            "block_14_add (Add)              (None, 4, 4, 160)    0           block_13_project_BN[0][0]        \n",
            "                                                                 block_14_project_BN[0][0]        \n",
            "__________________________________________________________________________________________________\n",
            "block_15_expand (Conv2D)        (None, 4, 4, 960)    153600      block_14_add[0][0]               \n",
            "__________________________________________________________________________________________________\n",
            "block_15_expand_BN (BatchNormal (None, 4, 4, 960)    3840        block_15_expand[0][0]            \n",
            "__________________________________________________________________________________________________\n",
            "block_15_expand_relu (ReLU)     (None, 4, 4, 960)    0           block_15_expand_BN[0][0]         \n",
            "__________________________________________________________________________________________________\n",
            "block_15_depthwise (DepthwiseCo (None, 4, 4, 960)    8640        block_15_expand_relu[0][0]       \n",
            "__________________________________________________________________________________________________\n",
            "block_15_depthwise_BN (BatchNor (None, 4, 4, 960)    3840        block_15_depthwise[0][0]         \n",
            "__________________________________________________________________________________________________\n",
            "block_15_depthwise_relu (ReLU)  (None, 4, 4, 960)    0           block_15_depthwise_BN[0][0]      \n",
            "__________________________________________________________________________________________________\n",
            "block_15_project (Conv2D)       (None, 4, 4, 160)    153600      block_15_depthwise_relu[0][0]    \n",
            "__________________________________________________________________________________________________\n",
            "block_15_project_BN (BatchNorma (None, 4, 4, 160)    640         block_15_project[0][0]           \n",
            "__________________________________________________________________________________________________\n",
            "block_15_add (Add)              (None, 4, 4, 160)    0           block_14_add[0][0]               \n",
            "                                                                 block_15_project_BN[0][0]        \n",
            "__________________________________________________________________________________________________\n",
            "block_16_expand (Conv2D)        (None, 4, 4, 960)    153600      block_15_add[0][0]               \n",
            "__________________________________________________________________________________________________\n",
            "block_16_expand_BN (BatchNormal (None, 4, 4, 960)    3840        block_16_expand[0][0]            \n",
            "__________________________________________________________________________________________________\n",
            "block_16_expand_relu (ReLU)     (None, 4, 4, 960)    0           block_16_expand_BN[0][0]         \n",
            "__________________________________________________________________________________________________\n",
            "block_16_depthwise (DepthwiseCo (None, 4, 4, 960)    8640        block_16_expand_relu[0][0]       \n",
            "__________________________________________________________________________________________________\n",
            "block_16_depthwise_BN (BatchNor (None, 4, 4, 960)    3840        block_16_depthwise[0][0]         \n",
            "__________________________________________________________________________________________________\n",
            "block_16_depthwise_relu (ReLU)  (None, 4, 4, 960)    0           block_16_depthwise_BN[0][0]      \n",
            "__________________________________________________________________________________________________\n",
            "block_16_project (Conv2D)       (None, 4, 4, 320)    307200      block_16_depthwise_relu[0][0]    \n",
            "__________________________________________________________________________________________________\n",
            "block_16_project_BN (BatchNorma (None, 4, 4, 320)    1280        block_16_project[0][0]           \n",
            "__________________________________________________________________________________________________\n",
            "Conv_1 (Conv2D)                 (None, 4, 4, 1280)   409600      block_16_project_BN[0][0]        \n",
            "__________________________________________________________________________________________________\n",
            "Conv_1_bn (BatchNormalization)  (None, 4, 4, 1280)   5120        Conv_1[0][0]                     \n",
            "__________________________________________________________________________________________________\n",
            "out_relu (ReLU)                 (None, 4, 4, 1280)   0           Conv_1_bn[0][0]                  \n",
            "==================================================================================================\n",
            "Total params: 2,257,984\n",
            "Trainable params: 2,223,872\n",
            "Non-trainable params: 34,112\n",
            "__________________________________________________________________________________________________\n"
          ],
          "name": "stdout"
        }
      ]
    },
    {
      "cell_type": "code",
      "metadata": {
        "id": "yY3MYHB_Em6Y"
      },
      "source": [
        "## Freezing the base Model, otherwise the initial weights will change and we only want to change the weights of the \n",
        "base_model.trainable = False"
      ],
      "execution_count": 12,
      "outputs": []
    },
    {
      "cell_type": "code",
      "metadata": {
        "id": "BLO4m32YeL1r",
        "colab": {
          "base_uri": "https://localhost:8080/"
        },
        "outputId": "7789d867-3f7b-4c67-c68a-0b288fa2842b"
      },
      "source": [
        "## Defining the custom head for our network\n",
        "base_model.output\n",
        "## This size is not very suitable for the output layer of the custom head"
      ],
      "execution_count": 13,
      "outputs": [
        {
          "output_type": "execute_result",
          "data": {
            "text/plain": [
              "<KerasTensor: shape=(None, 4, 4, 1280) dtype=float32 (created by layer 'out_relu')>"
            ]
          },
          "metadata": {
            "tags": []
          },
          "execution_count": 13
        }
      ]
    },
    {
      "cell_type": "code",
      "metadata": {
        "id": "DWFrfJWLeye_"
      },
      "source": [
        "## There are some approaches to handle this problem\n",
        "## 1.we could use the Flattening layer to convert or reshape the output to vectors, but here we have big vectors for our custom part of our network.\n",
        "## 2. here the better solution is to use Global average Pooling layer(similar to the MaxPooling layer)\n",
        "##    Global word means that it's gona take the whole input instead of processing parts of it at a time and this feature will help us. it reduces the input size significantly\n",
        "##    Average - instead of finding the most significant value( what the Max pooling is doing), this layer takes an average of all numbers in the input."
      ],
      "execution_count": 14,
      "outputs": []
    },
    {
      "cell_type": "code",
      "metadata": {
        "id": "y00E9CUHjjcC"
      },
      "source": [
        "global_average_layer = tf.keras.layers.GlobalAveragePooling2D()(base_model.output)"
      ],
      "execution_count": 15,
      "outputs": []
    },
    {
      "cell_type": "code",
      "metadata": {
        "id": "YVjBChCKj9Wb",
        "colab": {
          "base_uri": "https://localhost:8080/"
        },
        "outputId": "48fe441c-cf17-4575-ef32-8992ddf711ca"
      },
      "source": [
        "global_average_layer"
      ],
      "execution_count": 16,
      "outputs": [
        {
          "output_type": "execute_result",
          "data": {
            "text/plain": [
              "<KerasTensor: shape=(None, 1280) dtype=float32 (created by layer 'global_average_pooling2d')>"
            ]
          },
          "metadata": {
            "tags": []
          },
          "execution_count": 16
        }
      ]
    },
    {
      "cell_type": "code",
      "metadata": {
        "id": "v1gyiU5ej-22"
      },
      "source": [
        "## defining the output layer / prediction layer. and input to this is global_average_layer.\n",
        "prediction_layer = tf.keras.layers.Dense(units=1, activation='sigmoid')(global_average_layer)"
      ],
      "execution_count": 17,
      "outputs": []
    },
    {
      "cell_type": "code",
      "metadata": {
        "id": "MEWhNKthppB9",
        "colab": {
          "base_uri": "https://localhost:8080/"
        },
        "outputId": "d0954900-b2c4-467e-8fae-7cd460152f4f"
      },
      "source": [
        "prediction_layer"
      ],
      "execution_count": 18,
      "outputs": [
        {
          "output_type": "execute_result",
          "data": {
            "text/plain": [
              "<KerasTensor: shape=(None, 1) dtype=float32 (created by layer 'dense')>"
            ]
          },
          "metadata": {
            "tags": []
          },
          "execution_count": 18
        }
      ]
    },
    {
      "cell_type": "code",
      "metadata": {
        "id": "d3OjqxYOleDr"
      },
      "source": [
        "## Now we are going to create final model by combining the base model with our custom head.\n",
        "## uptil now we created sequential models but in this case since we are combining two neural networks we are going to use a simple model which allows us to specify the inputs and outputs separately \n",
        "model = tf.keras.models.Model(inputs = base_model.input, outputs = prediction_layer)"
      ],
      "execution_count": 19,
      "outputs": []
    },
    {
      "cell_type": "code",
      "metadata": {
        "id": "CW1gpOCal3-h",
        "colab": {
          "base_uri": "https://localhost:8080/"
        },
        "outputId": "c3bd1335-8862-4ab9-ae43-2d17a335409a"
      },
      "source": [
        "model.summary()"
      ],
      "execution_count": 20,
      "outputs": [
        {
          "output_type": "stream",
          "text": [
            "Model: \"model\"\n",
            "__________________________________________________________________________________________________\n",
            "Layer (type)                    Output Shape         Param #     Connected to                     \n",
            "==================================================================================================\n",
            "input_1 (InputLayer)            [(None, 128, 128, 3) 0                                            \n",
            "__________________________________________________________________________________________________\n",
            "Conv1 (Conv2D)                  (None, 64, 64, 32)   864         input_1[0][0]                    \n",
            "__________________________________________________________________________________________________\n",
            "bn_Conv1 (BatchNormalization)   (None, 64, 64, 32)   128         Conv1[0][0]                      \n",
            "__________________________________________________________________________________________________\n",
            "Conv1_relu (ReLU)               (None, 64, 64, 32)   0           bn_Conv1[0][0]                   \n",
            "__________________________________________________________________________________________________\n",
            "expanded_conv_depthwise (Depthw (None, 64, 64, 32)   288         Conv1_relu[0][0]                 \n",
            "__________________________________________________________________________________________________\n",
            "expanded_conv_depthwise_BN (Bat (None, 64, 64, 32)   128         expanded_conv_depthwise[0][0]    \n",
            "__________________________________________________________________________________________________\n",
            "expanded_conv_depthwise_relu (R (None, 64, 64, 32)   0           expanded_conv_depthwise_BN[0][0] \n",
            "__________________________________________________________________________________________________\n",
            "expanded_conv_project (Conv2D)  (None, 64, 64, 16)   512         expanded_conv_depthwise_relu[0][0\n",
            "__________________________________________________________________________________________________\n",
            "expanded_conv_project_BN (Batch (None, 64, 64, 16)   64          expanded_conv_project[0][0]      \n",
            "__________________________________________________________________________________________________\n",
            "block_1_expand (Conv2D)         (None, 64, 64, 96)   1536        expanded_conv_project_BN[0][0]   \n",
            "__________________________________________________________________________________________________\n",
            "block_1_expand_BN (BatchNormali (None, 64, 64, 96)   384         block_1_expand[0][0]             \n",
            "__________________________________________________________________________________________________\n",
            "block_1_expand_relu (ReLU)      (None, 64, 64, 96)   0           block_1_expand_BN[0][0]          \n",
            "__________________________________________________________________________________________________\n",
            "block_1_pad (ZeroPadding2D)     (None, 65, 65, 96)   0           block_1_expand_relu[0][0]        \n",
            "__________________________________________________________________________________________________\n",
            "block_1_depthwise (DepthwiseCon (None, 32, 32, 96)   864         block_1_pad[0][0]                \n",
            "__________________________________________________________________________________________________\n",
            "block_1_depthwise_BN (BatchNorm (None, 32, 32, 96)   384         block_1_depthwise[0][0]          \n",
            "__________________________________________________________________________________________________\n",
            "block_1_depthwise_relu (ReLU)   (None, 32, 32, 96)   0           block_1_depthwise_BN[0][0]       \n",
            "__________________________________________________________________________________________________\n",
            "block_1_project (Conv2D)        (None, 32, 32, 24)   2304        block_1_depthwise_relu[0][0]     \n",
            "__________________________________________________________________________________________________\n",
            "block_1_project_BN (BatchNormal (None, 32, 32, 24)   96          block_1_project[0][0]            \n",
            "__________________________________________________________________________________________________\n",
            "block_2_expand (Conv2D)         (None, 32, 32, 144)  3456        block_1_project_BN[0][0]         \n",
            "__________________________________________________________________________________________________\n",
            "block_2_expand_BN (BatchNormali (None, 32, 32, 144)  576         block_2_expand[0][0]             \n",
            "__________________________________________________________________________________________________\n",
            "block_2_expand_relu (ReLU)      (None, 32, 32, 144)  0           block_2_expand_BN[0][0]          \n",
            "__________________________________________________________________________________________________\n",
            "block_2_depthwise (DepthwiseCon (None, 32, 32, 144)  1296        block_2_expand_relu[0][0]        \n",
            "__________________________________________________________________________________________________\n",
            "block_2_depthwise_BN (BatchNorm (None, 32, 32, 144)  576         block_2_depthwise[0][0]          \n",
            "__________________________________________________________________________________________________\n",
            "block_2_depthwise_relu (ReLU)   (None, 32, 32, 144)  0           block_2_depthwise_BN[0][0]       \n",
            "__________________________________________________________________________________________________\n",
            "block_2_project (Conv2D)        (None, 32, 32, 24)   3456        block_2_depthwise_relu[0][0]     \n",
            "__________________________________________________________________________________________________\n",
            "block_2_project_BN (BatchNormal (None, 32, 32, 24)   96          block_2_project[0][0]            \n",
            "__________________________________________________________________________________________________\n",
            "block_2_add (Add)               (None, 32, 32, 24)   0           block_1_project_BN[0][0]         \n",
            "                                                                 block_2_project_BN[0][0]         \n",
            "__________________________________________________________________________________________________\n",
            "block_3_expand (Conv2D)         (None, 32, 32, 144)  3456        block_2_add[0][0]                \n",
            "__________________________________________________________________________________________________\n",
            "block_3_expand_BN (BatchNormali (None, 32, 32, 144)  576         block_3_expand[0][0]             \n",
            "__________________________________________________________________________________________________\n",
            "block_3_expand_relu (ReLU)      (None, 32, 32, 144)  0           block_3_expand_BN[0][0]          \n",
            "__________________________________________________________________________________________________\n",
            "block_3_pad (ZeroPadding2D)     (None, 33, 33, 144)  0           block_3_expand_relu[0][0]        \n",
            "__________________________________________________________________________________________________\n",
            "block_3_depthwise (DepthwiseCon (None, 16, 16, 144)  1296        block_3_pad[0][0]                \n",
            "__________________________________________________________________________________________________\n",
            "block_3_depthwise_BN (BatchNorm (None, 16, 16, 144)  576         block_3_depthwise[0][0]          \n",
            "__________________________________________________________________________________________________\n",
            "block_3_depthwise_relu (ReLU)   (None, 16, 16, 144)  0           block_3_depthwise_BN[0][0]       \n",
            "__________________________________________________________________________________________________\n",
            "block_3_project (Conv2D)        (None, 16, 16, 32)   4608        block_3_depthwise_relu[0][0]     \n",
            "__________________________________________________________________________________________________\n",
            "block_3_project_BN (BatchNormal (None, 16, 16, 32)   128         block_3_project[0][0]            \n",
            "__________________________________________________________________________________________________\n",
            "block_4_expand (Conv2D)         (None, 16, 16, 192)  6144        block_3_project_BN[0][0]         \n",
            "__________________________________________________________________________________________________\n",
            "block_4_expand_BN (BatchNormali (None, 16, 16, 192)  768         block_4_expand[0][0]             \n",
            "__________________________________________________________________________________________________\n",
            "block_4_expand_relu (ReLU)      (None, 16, 16, 192)  0           block_4_expand_BN[0][0]          \n",
            "__________________________________________________________________________________________________\n",
            "block_4_depthwise (DepthwiseCon (None, 16, 16, 192)  1728        block_4_expand_relu[0][0]        \n",
            "__________________________________________________________________________________________________\n",
            "block_4_depthwise_BN (BatchNorm (None, 16, 16, 192)  768         block_4_depthwise[0][0]          \n",
            "__________________________________________________________________________________________________\n",
            "block_4_depthwise_relu (ReLU)   (None, 16, 16, 192)  0           block_4_depthwise_BN[0][0]       \n",
            "__________________________________________________________________________________________________\n",
            "block_4_project (Conv2D)        (None, 16, 16, 32)   6144        block_4_depthwise_relu[0][0]     \n",
            "__________________________________________________________________________________________________\n",
            "block_4_project_BN (BatchNormal (None, 16, 16, 32)   128         block_4_project[0][0]            \n",
            "__________________________________________________________________________________________________\n",
            "block_4_add (Add)               (None, 16, 16, 32)   0           block_3_project_BN[0][0]         \n",
            "                                                                 block_4_project_BN[0][0]         \n",
            "__________________________________________________________________________________________________\n",
            "block_5_expand (Conv2D)         (None, 16, 16, 192)  6144        block_4_add[0][0]                \n",
            "__________________________________________________________________________________________________\n",
            "block_5_expand_BN (BatchNormali (None, 16, 16, 192)  768         block_5_expand[0][0]             \n",
            "__________________________________________________________________________________________________\n",
            "block_5_expand_relu (ReLU)      (None, 16, 16, 192)  0           block_5_expand_BN[0][0]          \n",
            "__________________________________________________________________________________________________\n",
            "block_5_depthwise (DepthwiseCon (None, 16, 16, 192)  1728        block_5_expand_relu[0][0]        \n",
            "__________________________________________________________________________________________________\n",
            "block_5_depthwise_BN (BatchNorm (None, 16, 16, 192)  768         block_5_depthwise[0][0]          \n",
            "__________________________________________________________________________________________________\n",
            "block_5_depthwise_relu (ReLU)   (None, 16, 16, 192)  0           block_5_depthwise_BN[0][0]       \n",
            "__________________________________________________________________________________________________\n",
            "block_5_project (Conv2D)        (None, 16, 16, 32)   6144        block_5_depthwise_relu[0][0]     \n",
            "__________________________________________________________________________________________________\n",
            "block_5_project_BN (BatchNormal (None, 16, 16, 32)   128         block_5_project[0][0]            \n",
            "__________________________________________________________________________________________________\n",
            "block_5_add (Add)               (None, 16, 16, 32)   0           block_4_add[0][0]                \n",
            "                                                                 block_5_project_BN[0][0]         \n",
            "__________________________________________________________________________________________________\n",
            "block_6_expand (Conv2D)         (None, 16, 16, 192)  6144        block_5_add[0][0]                \n",
            "__________________________________________________________________________________________________\n",
            "block_6_expand_BN (BatchNormali (None, 16, 16, 192)  768         block_6_expand[0][0]             \n",
            "__________________________________________________________________________________________________\n",
            "block_6_expand_relu (ReLU)      (None, 16, 16, 192)  0           block_6_expand_BN[0][0]          \n",
            "__________________________________________________________________________________________________\n",
            "block_6_pad (ZeroPadding2D)     (None, 17, 17, 192)  0           block_6_expand_relu[0][0]        \n",
            "__________________________________________________________________________________________________\n",
            "block_6_depthwise (DepthwiseCon (None, 8, 8, 192)    1728        block_6_pad[0][0]                \n",
            "__________________________________________________________________________________________________\n",
            "block_6_depthwise_BN (BatchNorm (None, 8, 8, 192)    768         block_6_depthwise[0][0]          \n",
            "__________________________________________________________________________________________________\n",
            "block_6_depthwise_relu (ReLU)   (None, 8, 8, 192)    0           block_6_depthwise_BN[0][0]       \n",
            "__________________________________________________________________________________________________\n",
            "block_6_project (Conv2D)        (None, 8, 8, 64)     12288       block_6_depthwise_relu[0][0]     \n",
            "__________________________________________________________________________________________________\n",
            "block_6_project_BN (BatchNormal (None, 8, 8, 64)     256         block_6_project[0][0]            \n",
            "__________________________________________________________________________________________________\n",
            "block_7_expand (Conv2D)         (None, 8, 8, 384)    24576       block_6_project_BN[0][0]         \n",
            "__________________________________________________________________________________________________\n",
            "block_7_expand_BN (BatchNormali (None, 8, 8, 384)    1536        block_7_expand[0][0]             \n",
            "__________________________________________________________________________________________________\n",
            "block_7_expand_relu (ReLU)      (None, 8, 8, 384)    0           block_7_expand_BN[0][0]          \n",
            "__________________________________________________________________________________________________\n",
            "block_7_depthwise (DepthwiseCon (None, 8, 8, 384)    3456        block_7_expand_relu[0][0]        \n",
            "__________________________________________________________________________________________________\n",
            "block_7_depthwise_BN (BatchNorm (None, 8, 8, 384)    1536        block_7_depthwise[0][0]          \n",
            "__________________________________________________________________________________________________\n",
            "block_7_depthwise_relu (ReLU)   (None, 8, 8, 384)    0           block_7_depthwise_BN[0][0]       \n",
            "__________________________________________________________________________________________________\n",
            "block_7_project (Conv2D)        (None, 8, 8, 64)     24576       block_7_depthwise_relu[0][0]     \n",
            "__________________________________________________________________________________________________\n",
            "block_7_project_BN (BatchNormal (None, 8, 8, 64)     256         block_7_project[0][0]            \n",
            "__________________________________________________________________________________________________\n",
            "block_7_add (Add)               (None, 8, 8, 64)     0           block_6_project_BN[0][0]         \n",
            "                                                                 block_7_project_BN[0][0]         \n",
            "__________________________________________________________________________________________________\n",
            "block_8_expand (Conv2D)         (None, 8, 8, 384)    24576       block_7_add[0][0]                \n",
            "__________________________________________________________________________________________________\n",
            "block_8_expand_BN (BatchNormali (None, 8, 8, 384)    1536        block_8_expand[0][0]             \n",
            "__________________________________________________________________________________________________\n",
            "block_8_expand_relu (ReLU)      (None, 8, 8, 384)    0           block_8_expand_BN[0][0]          \n",
            "__________________________________________________________________________________________________\n",
            "block_8_depthwise (DepthwiseCon (None, 8, 8, 384)    3456        block_8_expand_relu[0][0]        \n",
            "__________________________________________________________________________________________________\n",
            "block_8_depthwise_BN (BatchNorm (None, 8, 8, 384)    1536        block_8_depthwise[0][0]          \n",
            "__________________________________________________________________________________________________\n",
            "block_8_depthwise_relu (ReLU)   (None, 8, 8, 384)    0           block_8_depthwise_BN[0][0]       \n",
            "__________________________________________________________________________________________________\n",
            "block_8_project (Conv2D)        (None, 8, 8, 64)     24576       block_8_depthwise_relu[0][0]     \n",
            "__________________________________________________________________________________________________\n",
            "block_8_project_BN (BatchNormal (None, 8, 8, 64)     256         block_8_project[0][0]            \n",
            "__________________________________________________________________________________________________\n",
            "block_8_add (Add)               (None, 8, 8, 64)     0           block_7_add[0][0]                \n",
            "                                                                 block_8_project_BN[0][0]         \n",
            "__________________________________________________________________________________________________\n",
            "block_9_expand (Conv2D)         (None, 8, 8, 384)    24576       block_8_add[0][0]                \n",
            "__________________________________________________________________________________________________\n",
            "block_9_expand_BN (BatchNormali (None, 8, 8, 384)    1536        block_9_expand[0][0]             \n",
            "__________________________________________________________________________________________________\n",
            "block_9_expand_relu (ReLU)      (None, 8, 8, 384)    0           block_9_expand_BN[0][0]          \n",
            "__________________________________________________________________________________________________\n",
            "block_9_depthwise (DepthwiseCon (None, 8, 8, 384)    3456        block_9_expand_relu[0][0]        \n",
            "__________________________________________________________________________________________________\n",
            "block_9_depthwise_BN (BatchNorm (None, 8, 8, 384)    1536        block_9_depthwise[0][0]          \n",
            "__________________________________________________________________________________________________\n",
            "block_9_depthwise_relu (ReLU)   (None, 8, 8, 384)    0           block_9_depthwise_BN[0][0]       \n",
            "__________________________________________________________________________________________________\n",
            "block_9_project (Conv2D)        (None, 8, 8, 64)     24576       block_9_depthwise_relu[0][0]     \n",
            "__________________________________________________________________________________________________\n",
            "block_9_project_BN (BatchNormal (None, 8, 8, 64)     256         block_9_project[0][0]            \n",
            "__________________________________________________________________________________________________\n",
            "block_9_add (Add)               (None, 8, 8, 64)     0           block_8_add[0][0]                \n",
            "                                                                 block_9_project_BN[0][0]         \n",
            "__________________________________________________________________________________________________\n",
            "block_10_expand (Conv2D)        (None, 8, 8, 384)    24576       block_9_add[0][0]                \n",
            "__________________________________________________________________________________________________\n",
            "block_10_expand_BN (BatchNormal (None, 8, 8, 384)    1536        block_10_expand[0][0]            \n",
            "__________________________________________________________________________________________________\n",
            "block_10_expand_relu (ReLU)     (None, 8, 8, 384)    0           block_10_expand_BN[0][0]         \n",
            "__________________________________________________________________________________________________\n",
            "block_10_depthwise (DepthwiseCo (None, 8, 8, 384)    3456        block_10_expand_relu[0][0]       \n",
            "__________________________________________________________________________________________________\n",
            "block_10_depthwise_BN (BatchNor (None, 8, 8, 384)    1536        block_10_depthwise[0][0]         \n",
            "__________________________________________________________________________________________________\n",
            "block_10_depthwise_relu (ReLU)  (None, 8, 8, 384)    0           block_10_depthwise_BN[0][0]      \n",
            "__________________________________________________________________________________________________\n",
            "block_10_project (Conv2D)       (None, 8, 8, 96)     36864       block_10_depthwise_relu[0][0]    \n",
            "__________________________________________________________________________________________________\n",
            "block_10_project_BN (BatchNorma (None, 8, 8, 96)     384         block_10_project[0][0]           \n",
            "__________________________________________________________________________________________________\n",
            "block_11_expand (Conv2D)        (None, 8, 8, 576)    55296       block_10_project_BN[0][0]        \n",
            "__________________________________________________________________________________________________\n",
            "block_11_expand_BN (BatchNormal (None, 8, 8, 576)    2304        block_11_expand[0][0]            \n",
            "__________________________________________________________________________________________________\n",
            "block_11_expand_relu (ReLU)     (None, 8, 8, 576)    0           block_11_expand_BN[0][0]         \n",
            "__________________________________________________________________________________________________\n",
            "block_11_depthwise (DepthwiseCo (None, 8, 8, 576)    5184        block_11_expand_relu[0][0]       \n",
            "__________________________________________________________________________________________________\n",
            "block_11_depthwise_BN (BatchNor (None, 8, 8, 576)    2304        block_11_depthwise[0][0]         \n",
            "__________________________________________________________________________________________________\n",
            "block_11_depthwise_relu (ReLU)  (None, 8, 8, 576)    0           block_11_depthwise_BN[0][0]      \n",
            "__________________________________________________________________________________________________\n",
            "block_11_project (Conv2D)       (None, 8, 8, 96)     55296       block_11_depthwise_relu[0][0]    \n",
            "__________________________________________________________________________________________________\n",
            "block_11_project_BN (BatchNorma (None, 8, 8, 96)     384         block_11_project[0][0]           \n",
            "__________________________________________________________________________________________________\n",
            "block_11_add (Add)              (None, 8, 8, 96)     0           block_10_project_BN[0][0]        \n",
            "                                                                 block_11_project_BN[0][0]        \n",
            "__________________________________________________________________________________________________\n",
            "block_12_expand (Conv2D)        (None, 8, 8, 576)    55296       block_11_add[0][0]               \n",
            "__________________________________________________________________________________________________\n",
            "block_12_expand_BN (BatchNormal (None, 8, 8, 576)    2304        block_12_expand[0][0]            \n",
            "__________________________________________________________________________________________________\n",
            "block_12_expand_relu (ReLU)     (None, 8, 8, 576)    0           block_12_expand_BN[0][0]         \n",
            "__________________________________________________________________________________________________\n",
            "block_12_depthwise (DepthwiseCo (None, 8, 8, 576)    5184        block_12_expand_relu[0][0]       \n",
            "__________________________________________________________________________________________________\n",
            "block_12_depthwise_BN (BatchNor (None, 8, 8, 576)    2304        block_12_depthwise[0][0]         \n",
            "__________________________________________________________________________________________________\n",
            "block_12_depthwise_relu (ReLU)  (None, 8, 8, 576)    0           block_12_depthwise_BN[0][0]      \n",
            "__________________________________________________________________________________________________\n",
            "block_12_project (Conv2D)       (None, 8, 8, 96)     55296       block_12_depthwise_relu[0][0]    \n",
            "__________________________________________________________________________________________________\n",
            "block_12_project_BN (BatchNorma (None, 8, 8, 96)     384         block_12_project[0][0]           \n",
            "__________________________________________________________________________________________________\n",
            "block_12_add (Add)              (None, 8, 8, 96)     0           block_11_add[0][0]               \n",
            "                                                                 block_12_project_BN[0][0]        \n",
            "__________________________________________________________________________________________________\n",
            "block_13_expand (Conv2D)        (None, 8, 8, 576)    55296       block_12_add[0][0]               \n",
            "__________________________________________________________________________________________________\n",
            "block_13_expand_BN (BatchNormal (None, 8, 8, 576)    2304        block_13_expand[0][0]            \n",
            "__________________________________________________________________________________________________\n",
            "block_13_expand_relu (ReLU)     (None, 8, 8, 576)    0           block_13_expand_BN[0][0]         \n",
            "__________________________________________________________________________________________________\n",
            "block_13_pad (ZeroPadding2D)    (None, 9, 9, 576)    0           block_13_expand_relu[0][0]       \n",
            "__________________________________________________________________________________________________\n",
            "block_13_depthwise (DepthwiseCo (None, 4, 4, 576)    5184        block_13_pad[0][0]               \n",
            "__________________________________________________________________________________________________\n",
            "block_13_depthwise_BN (BatchNor (None, 4, 4, 576)    2304        block_13_depthwise[0][0]         \n",
            "__________________________________________________________________________________________________\n",
            "block_13_depthwise_relu (ReLU)  (None, 4, 4, 576)    0           block_13_depthwise_BN[0][0]      \n",
            "__________________________________________________________________________________________________\n",
            "block_13_project (Conv2D)       (None, 4, 4, 160)    92160       block_13_depthwise_relu[0][0]    \n",
            "__________________________________________________________________________________________________\n",
            "block_13_project_BN (BatchNorma (None, 4, 4, 160)    640         block_13_project[0][0]           \n",
            "__________________________________________________________________________________________________\n",
            "block_14_expand (Conv2D)        (None, 4, 4, 960)    153600      block_13_project_BN[0][0]        \n",
            "__________________________________________________________________________________________________\n",
            "block_14_expand_BN (BatchNormal (None, 4, 4, 960)    3840        block_14_expand[0][0]            \n",
            "__________________________________________________________________________________________________\n",
            "block_14_expand_relu (ReLU)     (None, 4, 4, 960)    0           block_14_expand_BN[0][0]         \n",
            "__________________________________________________________________________________________________\n",
            "block_14_depthwise (DepthwiseCo (None, 4, 4, 960)    8640        block_14_expand_relu[0][0]       \n",
            "__________________________________________________________________________________________________\n",
            "block_14_depthwise_BN (BatchNor (None, 4, 4, 960)    3840        block_14_depthwise[0][0]         \n",
            "__________________________________________________________________________________________________\n",
            "block_14_depthwise_relu (ReLU)  (None, 4, 4, 960)    0           block_14_depthwise_BN[0][0]      \n",
            "__________________________________________________________________________________________________\n",
            "block_14_project (Conv2D)       (None, 4, 4, 160)    153600      block_14_depthwise_relu[0][0]    \n",
            "__________________________________________________________________________________________________\n",
            "block_14_project_BN (BatchNorma (None, 4, 4, 160)    640         block_14_project[0][0]           \n",
            "__________________________________________________________________________________________________\n",
            "block_14_add (Add)              (None, 4, 4, 160)    0           block_13_project_BN[0][0]        \n",
            "                                                                 block_14_project_BN[0][0]        \n",
            "__________________________________________________________________________________________________\n",
            "block_15_expand (Conv2D)        (None, 4, 4, 960)    153600      block_14_add[0][0]               \n",
            "__________________________________________________________________________________________________\n",
            "block_15_expand_BN (BatchNormal (None, 4, 4, 960)    3840        block_15_expand[0][0]            \n",
            "__________________________________________________________________________________________________\n",
            "block_15_expand_relu (ReLU)     (None, 4, 4, 960)    0           block_15_expand_BN[0][0]         \n",
            "__________________________________________________________________________________________________\n",
            "block_15_depthwise (DepthwiseCo (None, 4, 4, 960)    8640        block_15_expand_relu[0][0]       \n",
            "__________________________________________________________________________________________________\n",
            "block_15_depthwise_BN (BatchNor (None, 4, 4, 960)    3840        block_15_depthwise[0][0]         \n",
            "__________________________________________________________________________________________________\n",
            "block_15_depthwise_relu (ReLU)  (None, 4, 4, 960)    0           block_15_depthwise_BN[0][0]      \n",
            "__________________________________________________________________________________________________\n",
            "block_15_project (Conv2D)       (None, 4, 4, 160)    153600      block_15_depthwise_relu[0][0]    \n",
            "__________________________________________________________________________________________________\n",
            "block_15_project_BN (BatchNorma (None, 4, 4, 160)    640         block_15_project[0][0]           \n",
            "__________________________________________________________________________________________________\n",
            "block_15_add (Add)              (None, 4, 4, 160)    0           block_14_add[0][0]               \n",
            "                                                                 block_15_project_BN[0][0]        \n",
            "__________________________________________________________________________________________________\n",
            "block_16_expand (Conv2D)        (None, 4, 4, 960)    153600      block_15_add[0][0]               \n",
            "__________________________________________________________________________________________________\n",
            "block_16_expand_BN (BatchNormal (None, 4, 4, 960)    3840        block_16_expand[0][0]            \n",
            "__________________________________________________________________________________________________\n",
            "block_16_expand_relu (ReLU)     (None, 4, 4, 960)    0           block_16_expand_BN[0][0]         \n",
            "__________________________________________________________________________________________________\n",
            "block_16_depthwise (DepthwiseCo (None, 4, 4, 960)    8640        block_16_expand_relu[0][0]       \n",
            "__________________________________________________________________________________________________\n",
            "block_16_depthwise_BN (BatchNor (None, 4, 4, 960)    3840        block_16_depthwise[0][0]         \n",
            "__________________________________________________________________________________________________\n",
            "block_16_depthwise_relu (ReLU)  (None, 4, 4, 960)    0           block_16_depthwise_BN[0][0]      \n",
            "__________________________________________________________________________________________________\n",
            "block_16_project (Conv2D)       (None, 4, 4, 320)    307200      block_16_depthwise_relu[0][0]    \n",
            "__________________________________________________________________________________________________\n",
            "block_16_project_BN (BatchNorma (None, 4, 4, 320)    1280        block_16_project[0][0]           \n",
            "__________________________________________________________________________________________________\n",
            "Conv_1 (Conv2D)                 (None, 4, 4, 1280)   409600      block_16_project_BN[0][0]        \n",
            "__________________________________________________________________________________________________\n",
            "Conv_1_bn (BatchNormalization)  (None, 4, 4, 1280)   5120        Conv_1[0][0]                     \n",
            "__________________________________________________________________________________________________\n",
            "out_relu (ReLU)                 (None, 4, 4, 1280)   0           Conv_1_bn[0][0]                  \n",
            "__________________________________________________________________________________________________\n",
            "global_average_pooling2d (Globa (None, 1280)         0           out_relu[0][0]                   \n",
            "__________________________________________________________________________________________________\n",
            "dense (Dense)                   (None, 1)            1281        global_average_pooling2d[0][0]   \n",
            "==================================================================================================\n",
            "Total params: 2,259,265\n",
            "Trainable params: 1,281\n",
            "Non-trainable params: 2,257,984\n",
            "__________________________________________________________________________________________________\n"
          ],
          "name": "stdout"
        }
      ]
    },
    {
      "cell_type": "code",
      "metadata": {
        "id": "_CGAiWADoOIj",
        "colab": {
          "base_uri": "https://localhost:8080/"
        },
        "outputId": "0e19783c-af25-4a3d-bf02-86e6ce2f783a"
      },
      "source": [
        "model.compile(optimizer = tf.keras.optimizers.RMSprop(lr = 0.0001), loss = 'binary_crossentropy', metrics = ['accuracy'])"
      ],
      "execution_count": 21,
      "outputs": [
        {
          "output_type": "stream",
          "text": [
            "/usr/local/lib/python3.7/dist-packages/tensorflow/python/keras/optimizer_v2/optimizer_v2.py:375: UserWarning: The `lr` argument is deprecated, use `learning_rate` instead.\n",
            "  \"The `lr` argument is deprecated, use `learning_rate` instead.\")\n"
          ],
          "name": "stderr"
        }
      ]
    },
    {
      "cell_type": "code",
      "metadata": {
        "id": "XVeGuK0IsYGx"
      },
      "source": [
        "## Creating Data Generators\n",
        "## Resizing images\n",
        "data_gen_train = ImageDataGenerator(rescale = 1/255.0)\n",
        "data_gen_valid = ImageDataGenerator(rescale = 1/255.0)"
      ],
      "execution_count": 22,
      "outputs": []
    },
    {
      "cell_type": "code",
      "metadata": {
        "id": "f8m4iq_XSo1t",
        "colab": {
          "base_uri": "https://localhost:8080/"
        },
        "outputId": "7410365f-a12b-4806-d537-9e9a4b7095ee"
      },
      "source": [
        "train_generator = data_gen_train.flow_from_directory(train_dr, target_size = (128,128), batch_size = 128, class_mode = 'binary')"
      ],
      "execution_count": 23,
      "outputs": [
        {
          "output_type": "stream",
          "text": [
            "Found 2000 images belonging to 2 classes.\n"
          ],
          "name": "stdout"
        }
      ]
    },
    {
      "cell_type": "code",
      "metadata": {
        "id": "pcv2J_7vGfV5",
        "colab": {
          "base_uri": "https://localhost:8080/"
        },
        "outputId": "8b4ba924-40ba-432b-ea58-33915a334e7e"
      },
      "source": [
        "valid_generator = data_gen_valid.flow_from_directory(validation_dr, target_size = (128,128), batch_size = 128, class_mode = 'binary')"
      ],
      "execution_count": 24,
      "outputs": [
        {
          "output_type": "stream",
          "text": [
            "Found 1000 images belonging to 2 classes.\n"
          ],
          "name": "stdout"
        }
      ]
    },
    {
      "cell_type": "code",
      "metadata": {
        "id": "fP6-iu0qIQ63",
        "colab": {
          "base_uri": "https://localhost:8080/"
        },
        "outputId": "95145476-4b48-4ded-e5c3-19d34331efad"
      },
      "source": [
        "train_generator"
      ],
      "execution_count": 25,
      "outputs": [
        {
          "output_type": "execute_result",
          "data": {
            "text/plain": [
              "<tensorflow.python.keras.preprocessing.image.DirectoryIterator at 0x7efca4cf23d0>"
            ]
          },
          "metadata": {
            "tags": []
          },
          "execution_count": 25
        }
      ]
    },
    {
      "cell_type": "markdown",
      "metadata": {
        "id": "U369Z4lpDUQz"
      },
      "source": [
        "### Training the model"
      ]
    },
    {
      "cell_type": "code",
      "metadata": {
        "id": "Lh0srP7vKaWE",
        "colab": {
          "base_uri": "https://localhost:8080/"
        },
        "outputId": "2e9eeb09-cf14-4031-f768-ed2d81809edc"
      },
      "source": [
        "# Training the Transfer learning model\n",
        "# when using a data generator for preprocessing the dataset, we should use a fit generator function instead of normal fit function on our model.\n",
        "model.fit(train_generator, epochs = 10, validation_data= valid_generator)"
      ],
      "execution_count": 26,
      "outputs": [
        {
          "output_type": "stream",
          "text": [
            "Epoch 1/10\n",
            "16/16 [==============================] - 13s 561ms/step - loss: 0.6461 - accuracy: 0.6325 - val_loss: 0.6121 - val_accuracy: 0.6890\n",
            "Epoch 2/10\n",
            "16/16 [==============================] - 8s 483ms/step - loss: 0.5432 - accuracy: 0.7420 - val_loss: 0.5300 - val_accuracy: 0.7650\n",
            "Epoch 3/10\n",
            "16/16 [==============================] - 7s 473ms/step - loss: 0.4707 - accuracy: 0.8095 - val_loss: 0.4640 - val_accuracy: 0.8050\n",
            "Epoch 4/10\n",
            "16/16 [==============================] - 7s 472ms/step - loss: 0.4110 - accuracy: 0.8510 - val_loss: 0.4094 - val_accuracy: 0.8420\n",
            "Epoch 5/10\n",
            "16/16 [==============================] - 8s 478ms/step - loss: 0.3629 - accuracy: 0.8770 - val_loss: 0.3636 - val_accuracy: 0.8740\n",
            "Epoch 6/10\n",
            "16/16 [==============================] - 7s 471ms/step - loss: 0.3221 - accuracy: 0.8975 - val_loss: 0.3247 - val_accuracy: 0.8890\n",
            "Epoch 7/10\n",
            "16/16 [==============================] - 7s 472ms/step - loss: 0.2876 - accuracy: 0.9110 - val_loss: 0.2922 - val_accuracy: 0.9030\n",
            "Epoch 8/10\n",
            "16/16 [==============================] - 7s 479ms/step - loss: 0.2592 - accuracy: 0.9240 - val_loss: 0.2650 - val_accuracy: 0.9200\n",
            "Epoch 9/10\n",
            "16/16 [==============================] - 7s 471ms/step - loss: 0.2361 - accuracy: 0.9315 - val_loss: 0.2425 - val_accuracy: 0.9230\n",
            "Epoch 10/10\n",
            "16/16 [==============================] - 7s 471ms/step - loss: 0.2168 - accuracy: 0.9345 - val_loss: 0.2237 - val_accuracy: 0.9290\n"
          ],
          "name": "stdout"
        },
        {
          "output_type": "execute_result",
          "data": {
            "text/plain": [
              "<tensorflow.python.keras.callbacks.History at 0x7efc9009b990>"
            ]
          },
          "metadata": {
            "tags": []
          },
          "execution_count": 26
        }
      ]
    },
    {
      "cell_type": "markdown",
      "metadata": {
        "id": "i4JuTHdRDhpp"
      },
      "source": [
        "### Transfer learning model evaluation"
      ]
    },
    {
      "cell_type": "code",
      "metadata": {
        "id": "yjoUic0TMpXL",
        "colab": {
          "base_uri": "https://localhost:8080/"
        },
        "outputId": "9cd7dc9a-3008-4407-e686-a693554ced6e"
      },
      "source": [
        "# Transfer learning model evaluation\n",
        "valid_loss, valid_accuracy = model.evaluate(valid_generator)"
      ],
      "execution_count": 27,
      "outputs": [
        {
          "output_type": "stream",
          "text": [
            "8/8 [==============================] - 3s 312ms/step - loss: 0.2237 - accuracy: 0.9290\n"
          ],
          "name": "stdout"
        }
      ]
    },
    {
      "cell_type": "code",
      "metadata": {
        "id": "6jGlMF4uYuLQ",
        "colab": {
          "base_uri": "https://localhost:8080/"
        },
        "outputId": "5bccf938-aca7-4cae-a35c-0ec444c8dc00"
      },
      "source": [
        "print(\"Accuracy after transfer learning: {}\".format(valid_accuracy))"
      ],
      "execution_count": 28,
      "outputs": [
        {
          "output_type": "stream",
          "text": [
            "Accuracy after transfer learning: 0.9290000200271606\n"
          ],
          "name": "stdout"
        }
      ]
    },
    {
      "cell_type": "markdown",
      "metadata": {
        "id": "stnl5bkCZDct"
      },
      "source": [
        "\n",
        "## Fine Tuning\n",
        "\n",
        "\n",
        "\n"
      ]
    },
    {
      "cell_type": "code",
      "metadata": {
        "id": "5Lw99LTqZJpK"
      },
      "source": [
        "## Use it after Transfer Learning, to improve the results.\n",
        "## In transfer Learning we used a pre trained network that we have frozen and just trained the custom part of it to be suited for the task that we're trying to solve.\n",
        "## but the base network at this point it doesn't have any features connected to our specific task, so if we have very specific task to solve, it is good to have features from the data set inside the base network as well.  "
      ],
      "execution_count": 29,
      "outputs": []
    },
    {
      "cell_type": "code",
      "metadata": {
        "id": "mcqLu8lDAWGw"
      },
      "source": [
        "# we unfreeze a few top layers from the base network, this way we allow the network to learn even further about the custom data set.\n",
        "##  Don't use fine tuning on the whole network , only a few top layers are enough, the reason is that in most cases they are more specialized for the specific task. When CNN is trained, lower layers are going to learn general features like edges corners and all, whereas the top layers are specific to the dataset( like eyes, ears , tails etc)\n",
        "##  Use it after Transfer Learning, to improve the results. reason is that if we try to perform fine tuning immediately in our custom head which is not trained, graidents will be much different between our custom head layer and a few unfrozen layers from the base model. "
      ],
      "execution_count": 30,
      "outputs": []
    },
    {
      "cell_type": "code",
      "metadata": {
        "id": "sVahYlKpCbUX"
      },
      "source": [
        "# unfreezing the top layers\n",
        "base_model.trainable = True"
      ],
      "execution_count": 31,
      "outputs": []
    },
    {
      "cell_type": "code",
      "metadata": {
        "id": "v6tex5H1CoUA",
        "colab": {
          "base_uri": "https://localhost:8080/"
        },
        "outputId": "93e7787c-b25b-4196-baae-8f40146dde51"
      },
      "source": [
        "print('Number of layers in the base model: {}'.format(len(base_model.layers)))"
      ],
      "execution_count": 32,
      "outputs": [
        {
          "output_type": "stream",
          "text": [
            "Number of layers in the base model: 154\n"
          ],
          "name": "stdout"
        }
      ]
    },
    {
      "cell_type": "code",
      "metadata": {
        "id": "5FJlJlt5C3Dm",
        "colab": {
          "base_uri": "https://localhost:8080/"
        },
        "outputId": "41425154-461c-4ed9-afee-9c9095dcde09"
      },
      "source": [
        "base_model.layers"
      ],
      "execution_count": 33,
      "outputs": [
        {
          "output_type": "execute_result",
          "data": {
            "text/plain": [
              "[<tensorflow.python.keras.engine.input_layer.InputLayer at 0x7efcb176efd0>,\n",
              " <tensorflow.python.keras.layers.convolutional.Conv2D at 0x7efca4f5c6d0>,\n",
              " <tensorflow.python.keras.layers.normalization_v2.BatchNormalization at 0x7efca5f87090>,\n",
              " <tensorflow.python.keras.layers.advanced_activations.ReLU at 0x7efca57f3890>,\n",
              " <tensorflow.python.keras.layers.convolutional.DepthwiseConv2D at 0x7efca5799c10>,\n",
              " <tensorflow.python.keras.layers.normalization_v2.BatchNormalization at 0x7efcac296390>,\n",
              " <tensorflow.python.keras.layers.advanced_activations.ReLU at 0x7efca4ceaed0>,\n",
              " <tensorflow.python.keras.layers.convolutional.Conv2D at 0x7efc90254950>,\n",
              " <tensorflow.python.keras.layers.normalization_v2.BatchNormalization at 0x7efc9025f790>,\n",
              " <tensorflow.python.keras.layers.convolutional.Conv2D at 0x7efc90266dd0>,\n",
              " <tensorflow.python.keras.layers.normalization_v2.BatchNormalization at 0x7efc90262a10>,\n",
              " <tensorflow.python.keras.layers.advanced_activations.ReLU at 0x7efca573f550>,\n",
              " <tensorflow.python.keras.layers.convolutional.ZeroPadding2D at 0x7efc9025b190>,\n",
              " <tensorflow.python.keras.layers.convolutional.DepthwiseConv2D at 0x7efc90280690>,\n",
              " <tensorflow.python.keras.layers.normalization_v2.BatchNormalization at 0x7efc90285c90>,\n",
              " <tensorflow.python.keras.layers.advanced_activations.ReLU at 0x7efc9026f650>,\n",
              " <tensorflow.python.keras.layers.convolutional.Conv2D at 0x7efc90280e50>,\n",
              " <tensorflow.python.keras.layers.normalization_v2.BatchNormalization at 0x7efc9025fc50>,\n",
              " <tensorflow.python.keras.layers.convolutional.Conv2D at 0x7efc90254310>,\n",
              " <tensorflow.python.keras.layers.normalization_v2.BatchNormalization at 0x7efc9027bc90>,\n",
              " <tensorflow.python.keras.layers.advanced_activations.ReLU at 0x7efc90215290>,\n",
              " <tensorflow.python.keras.layers.convolutional.DepthwiseConv2D at 0x7efcac28db10>,\n",
              " <tensorflow.python.keras.layers.normalization_v2.BatchNormalization at 0x7efc90215490>,\n",
              " <tensorflow.python.keras.layers.advanced_activations.ReLU at 0x7efc9021f590>,\n",
              " <tensorflow.python.keras.layers.convolutional.Conv2D at 0x7efc90224e10>,\n",
              " <tensorflow.python.keras.layers.normalization_v2.BatchNormalization at 0x7efc9022ddd0>,\n",
              " <tensorflow.python.keras.layers.merge.Add at 0x7efc90224d90>,\n",
              " <tensorflow.python.keras.layers.convolutional.Conv2D at 0x7efc9021a310>,\n",
              " <tensorflow.python.keras.layers.normalization_v2.BatchNormalization at 0x7efc90212a50>,\n",
              " <tensorflow.python.keras.layers.advanced_activations.ReLU at 0x7efc90236950>,\n",
              " <tensorflow.python.keras.layers.convolutional.ZeroPadding2D at 0x7efc90242350>,\n",
              " <tensorflow.python.keras.layers.convolutional.DepthwiseConv2D at 0x7efc90248f50>,\n",
              " <tensorflow.python.keras.layers.normalization_v2.BatchNormalization at 0x7efc901cd9d0>,\n",
              " <tensorflow.python.keras.layers.advanced_activations.ReLU at 0x7efc902424d0>,\n",
              " <tensorflow.python.keras.layers.convolutional.Conv2D at 0x7efc901d8190>,\n",
              " <tensorflow.python.keras.layers.normalization_v2.BatchNormalization at 0x7efc901e0050>,\n",
              " <tensorflow.python.keras.layers.convolutional.Conv2D at 0x7efc901da490>,\n",
              " <tensorflow.python.keras.layers.normalization_v2.BatchNormalization at 0x7efc901e4110>,\n",
              " <tensorflow.python.keras.layers.advanced_activations.ReLU at 0x7efc901ed6d0>,\n",
              " <tensorflow.python.keras.layers.convolutional.DepthwiseConv2D at 0x7efc901edc90>,\n",
              " <tensorflow.python.keras.layers.normalization_v2.BatchNormalization at 0x7efc901f2050>,\n",
              " <tensorflow.python.keras.layers.advanced_activations.ReLU at 0x7efc901f96d0>,\n",
              " <tensorflow.python.keras.layers.convolutional.Conv2D at 0x7efc901fc250>,\n",
              " <tensorflow.python.keras.layers.normalization_v2.BatchNormalization at 0x7efc90209890>,\n",
              " <tensorflow.python.keras.layers.merge.Add at 0x7efc901927d0>,\n",
              " <tensorflow.python.keras.layers.convolutional.Conv2D at 0x7efc90203610>,\n",
              " <tensorflow.python.keras.layers.normalization_v2.BatchNormalization at 0x7efc9019e850>,\n",
              " <tensorflow.python.keras.layers.advanced_activations.ReLU at 0x7efc901a6350>,\n",
              " <tensorflow.python.keras.layers.convolutional.DepthwiseConv2D at 0x7efc901a6390>,\n",
              " <tensorflow.python.keras.layers.normalization_v2.BatchNormalization at 0x7efc901f2d90>,\n",
              " <tensorflow.python.keras.layers.advanced_activations.ReLU at 0x7efc901ba310>,\n",
              " <tensorflow.python.keras.layers.convolutional.Conv2D at 0x7efc901be910>,\n",
              " <tensorflow.python.keras.layers.normalization_v2.BatchNormalization at 0x7efc901a6150>,\n",
              " <tensorflow.python.keras.layers.merge.Add at 0x7efc901c9dd0>,\n",
              " <tensorflow.python.keras.layers.convolutional.Conv2D at 0x7efc901c9b10>,\n",
              " <tensorflow.python.keras.layers.normalization_v2.BatchNormalization at 0x7efc901c4ed0>,\n",
              " <tensorflow.python.keras.layers.advanced_activations.ReLU at 0x7efc90199ed0>,\n",
              " <tensorflow.python.keras.layers.convolutional.ZeroPadding2D at 0x7efc9018da50>,\n",
              " <tensorflow.python.keras.layers.convolutional.DepthwiseConv2D at 0x7efc90209b10>,\n",
              " <tensorflow.python.keras.layers.normalization_v2.BatchNormalization at 0x7efc90193090>,\n",
              " <tensorflow.python.keras.layers.advanced_activations.ReLU at 0x7efc901d8d50>,\n",
              " <tensorflow.python.keras.layers.convolutional.Conv2D at 0x7efc901da790>,\n",
              " <tensorflow.python.keras.layers.normalization_v2.BatchNormalization at 0x7efc9023e750>,\n",
              " <tensorflow.python.keras.layers.convolutional.Conv2D at 0x7efc901a67d0>,\n",
              " <tensorflow.python.keras.layers.normalization_v2.BatchNormalization at 0x7efc9019e2d0>,\n",
              " <tensorflow.python.keras.layers.advanced_activations.ReLU at 0x7efca57f35d0>,\n",
              " <tensorflow.python.keras.layers.convolutional.DepthwiseConv2D at 0x7efc90154990>,\n",
              " <tensorflow.python.keras.layers.normalization_v2.BatchNormalization at 0x7efc90159fd0>,\n",
              " <tensorflow.python.keras.layers.advanced_activations.ReLU at 0x7efc901624d0>,\n",
              " <tensorflow.python.keras.layers.convolutional.Conv2D at 0x7efc90161f90>,\n",
              " <tensorflow.python.keras.layers.normalization_v2.BatchNormalization at 0x7efc90163850>,\n",
              " <tensorflow.python.keras.layers.merge.Add at 0x7efc9016f150>,\n",
              " <tensorflow.python.keras.layers.convolutional.Conv2D at 0x7efc9016f5d0>,\n",
              " <tensorflow.python.keras.layers.normalization_v2.BatchNormalization at 0x7efc90176410>,\n",
              " <tensorflow.python.keras.layers.advanced_activations.ReLU at 0x7efc90180050>,\n",
              " <tensorflow.python.keras.layers.convolutional.DepthwiseConv2D at 0x7efc90180810>,\n",
              " <tensorflow.python.keras.layers.normalization_v2.BatchNormalization at 0x7efc90167ad0>,\n",
              " <tensorflow.python.keras.layers.advanced_activations.ReLU at 0x7efc90112290>,\n",
              " <tensorflow.python.keras.layers.convolutional.Conv2D at 0x7efc90118310>,\n",
              " <tensorflow.python.keras.layers.normalization_v2.BatchNormalization at 0x7efca574a4d0>,\n",
              " <tensorflow.python.keras.layers.merge.Add at 0x7efc90121990>,\n",
              " <tensorflow.python.keras.layers.convolutional.Conv2D at 0x7efc9010b2d0>,\n",
              " <tensorflow.python.keras.layers.normalization_v2.BatchNormalization at 0x7efc901185d0>,\n",
              " <tensorflow.python.keras.layers.advanced_activations.ReLU at 0x7efc9012eb90>,\n",
              " <tensorflow.python.keras.layers.convolutional.DepthwiseConv2D at 0x7efc90132a90>,\n",
              " <tensorflow.python.keras.layers.normalization_v2.BatchNormalization at 0x7efc9013b190>,\n",
              " <tensorflow.python.keras.layers.advanced_activations.ReLU at 0x7efc90132410>,\n",
              " <tensorflow.python.keras.layers.convolutional.Conv2D at 0x7efc90145290>,\n",
              " <tensorflow.python.keras.layers.normalization_v2.BatchNormalization at 0x7efc900cf290>,\n",
              " <tensorflow.python.keras.layers.merge.Add at 0x7efc90147550>,\n",
              " <tensorflow.python.keras.layers.convolutional.Conv2D at 0x7efc900d2350>,\n",
              " <tensorflow.python.keras.layers.normalization_v2.BatchNormalization at 0x7efc900de6d0>,\n",
              " <tensorflow.python.keras.layers.advanced_activations.ReLU at 0x7efc900dea10>,\n",
              " <tensorflow.python.keras.layers.convolutional.DepthwiseConv2D at 0x7efc900e1b50>,\n",
              " <tensorflow.python.keras.layers.normalization_v2.BatchNormalization at 0x7efc900e1950>,\n",
              " <tensorflow.python.keras.layers.advanced_activations.ReLU at 0x7efc900f05d0>,\n",
              " <tensorflow.python.keras.layers.convolutional.Conv2D at 0x7efc900e6f90>,\n",
              " <tensorflow.python.keras.layers.normalization_v2.BatchNormalization at 0x7efc90147050>,\n",
              " <tensorflow.python.keras.layers.convolutional.Conv2D at 0x7efc90121190>,\n",
              " <tensorflow.python.keras.layers.normalization_v2.BatchNormalization at 0x7efc9010f650>,\n",
              " <tensorflow.python.keras.layers.advanced_activations.ReLU at 0x7efc9010ba90>,\n",
              " <tensorflow.python.keras.layers.convolutional.DepthwiseConv2D at 0x7efc90176890>,\n",
              " <tensorflow.python.keras.layers.normalization_v2.BatchNormalization at 0x7efca573f610>,\n",
              " <tensorflow.python.keras.layers.advanced_activations.ReLU at 0x7efc9015f110>,\n",
              " <tensorflow.python.keras.layers.convolutional.Conv2D at 0x7efc9017be50>,\n",
              " <tensorflow.python.keras.layers.normalization_v2.BatchNormalization at 0x7efc90154690>,\n",
              " <tensorflow.python.keras.layers.merge.Add at 0x7efc901cd110>,\n",
              " <tensorflow.python.keras.layers.convolutional.Conv2D at 0x7efc901cd250>,\n",
              " <tensorflow.python.keras.layers.normalization_v2.BatchNormalization at 0x7efc901053d0>,\n",
              " <tensorflow.python.keras.layers.advanced_activations.ReLU at 0x7efc901056d0>,\n",
              " <tensorflow.python.keras.layers.convolutional.DepthwiseConv2D at 0x7efc90108fd0>,\n",
              " <tensorflow.python.keras.layers.normalization_v2.BatchNormalization at 0x7efc9008dd90>,\n",
              " <tensorflow.python.keras.layers.advanced_activations.ReLU at 0x7efc90096350>,\n",
              " <tensorflow.python.keras.layers.convolutional.Conv2D at 0x7efc9008dd50>,\n",
              " <tensorflow.python.keras.layers.normalization_v2.BatchNormalization at 0x7efc900a0610>,\n",
              " <tensorflow.python.keras.layers.merge.Add at 0x7efc900a8390>,\n",
              " <tensorflow.python.keras.layers.convolutional.Conv2D at 0x7efc900a4290>,\n",
              " <tensorflow.python.keras.layers.normalization_v2.BatchNormalization at 0x7efc900b3510>,\n",
              " <tensorflow.python.keras.layers.advanced_activations.ReLU at 0x7efc900bc0d0>,\n",
              " <tensorflow.python.keras.layers.convolutional.ZeroPadding2D at 0x7efc900c20d0>,\n",
              " <tensorflow.python.keras.layers.convolutional.DepthwiseConv2D at 0x7efc900b06d0>,\n",
              " <tensorflow.python.keras.layers.normalization_v2.BatchNormalization at 0x7efc900c7c10>,\n",
              " <tensorflow.python.keras.layers.advanced_activations.ReLU at 0x7efc90057050>,\n",
              " <tensorflow.python.keras.layers.convolutional.Conv2D at 0x7efc90057550>,\n",
              " <tensorflow.python.keras.layers.normalization_v2.BatchNormalization at 0x7efc90054350>,\n",
              " <tensorflow.python.keras.layers.convolutional.Conv2D at 0x7efc90063590>,\n",
              " <tensorflow.python.keras.layers.normalization_v2.BatchNormalization at 0x7efc90051590>,\n",
              " <tensorflow.python.keras.layers.advanced_activations.ReLU at 0x7efc9006f3d0>,\n",
              " <tensorflow.python.keras.layers.convolutional.DepthwiseConv2D at 0x7efc90073550>,\n",
              " <tensorflow.python.keras.layers.normalization_v2.BatchNormalization at 0x7efc9007dfd0>,\n",
              " <tensorflow.python.keras.layers.advanced_activations.ReLU at 0x7efc90073d50>,\n",
              " <tensorflow.python.keras.layers.convolutional.Conv2D at 0x7efc9006fad0>,\n",
              " <tensorflow.python.keras.layers.normalization_v2.BatchNormalization at 0x7efc900898d0>,\n",
              " <tensorflow.python.keras.layers.merge.Add at 0x7efc9005e3d0>,\n",
              " <tensorflow.python.keras.layers.convolutional.Conv2D at 0x7efc90011b10>,\n",
              " <tensorflow.python.keras.layers.normalization_v2.BatchNormalization at 0x7efc9001bc90>,\n",
              " <tensorflow.python.keras.layers.advanced_activations.ReLU at 0x7efc90026510>,\n",
              " <tensorflow.python.keras.layers.convolutional.DepthwiseConv2D at 0x7efc9002e350>,\n",
              " <tensorflow.python.keras.layers.normalization_v2.BatchNormalization at 0x7efc900154d0>,\n",
              " <tensorflow.python.keras.layers.advanced_activations.ReLU at 0x7efc900687d0>,\n",
              " <tensorflow.python.keras.layers.convolutional.Conv2D at 0x7efc9005e6d0>,\n",
              " <tensorflow.python.keras.layers.normalization_v2.BatchNormalization at 0x7efc90011550>,\n",
              " <tensorflow.python.keras.layers.merge.Add at 0x7efc90081150>,\n",
              " <tensorflow.python.keras.layers.convolutional.Conv2D at 0x7efc900b0510>,\n",
              " <tensorflow.python.keras.layers.normalization_v2.BatchNormalization at 0x7efc9008ddd0>,\n",
              " <tensorflow.python.keras.layers.advanced_activations.ReLU at 0x7efc900a4bd0>,\n",
              " <tensorflow.python.keras.layers.convolutional.DepthwiseConv2D at 0x7efc900a8950>,\n",
              " <tensorflow.python.keras.layers.normalization_v2.BatchNormalization at 0x7efc9016f3d0>,\n",
              " <tensorflow.python.keras.layers.advanced_activations.ReLU at 0x7efc90089610>,\n",
              " <tensorflow.python.keras.layers.convolutional.Conv2D at 0x7efc900fead0>,\n",
              " <tensorflow.python.keras.layers.normalization_v2.BatchNormalization at 0x7efc90035e50>,\n",
              " <tensorflow.python.keras.layers.convolutional.Conv2D at 0x7efca575b5d0>,\n",
              " <tensorflow.python.keras.layers.normalization_v2.BatchNormalization at 0x7efc900a4dd0>,\n",
              " <tensorflow.python.keras.layers.advanced_activations.ReLU at 0x7efc90042bd0>]"
            ]
          },
          "metadata": {
            "tags": []
          },
          "execution_count": 33
        }
      ]
    },
    {
      "cell_type": "code",
      "metadata": {
        "id": "8N6yPuU2C6EW"
      },
      "source": [
        "fine_tune_at = 100"
      ],
      "execution_count": 34,
      "outputs": []
    },
    {
      "cell_type": "code",
      "metadata": {
        "id": "BIeRiJDmDPxe"
      },
      "source": [
        "for layer in base_model.layers[:fine_tune_at]:\n",
        "  layer.trainable = False"
      ],
      "execution_count": 35,
      "outputs": []
    },
    {
      "cell_type": "code",
      "metadata": {
        "id": "CfXbJdCgDeoI",
        "colab": {
          "base_uri": "https://localhost:8080/"
        },
        "outputId": "807dc5f5-3dec-477d-e6e5-bd7c59364bb2"
      },
      "source": [
        "model.compile(optimizer=tf.keras.optimizers.RMSprop(lr = 0.0001), loss = 'binary_crossentropy', metrics = ['accuracy'])"
      ],
      "execution_count": 36,
      "outputs": [
        {
          "output_type": "stream",
          "text": [
            "/usr/local/lib/python3.7/dist-packages/tensorflow/python/keras/optimizer_v2/optimizer_v2.py:375: UserWarning: The `lr` argument is deprecated, use `learning_rate` instead.\n",
            "  \"The `lr` argument is deprecated, use `learning_rate` instead.\")\n"
          ],
          "name": "stderr"
        }
      ]
    },
    {
      "cell_type": "code",
      "metadata": {
        "id": "tdzNv5M9EbDD",
        "colab": {
          "base_uri": "https://localhost:8080/"
        },
        "outputId": "03d701b1-182a-4358-ab4f-d8b6806a70c1"
      },
      "source": [
        "model.fit(train_generator, epochs= 5, validation_data = valid_generator)"
      ],
      "execution_count": 37,
      "outputs": [
        {
          "output_type": "stream",
          "text": [
            "Epoch 1/5\n",
            "16/16 [==============================] - 13s 564ms/step - loss: 0.1650 - accuracy: 0.9310 - val_loss: 0.0708 - val_accuracy: 0.9750\n",
            "Epoch 2/5\n",
            "16/16 [==============================] - 8s 487ms/step - loss: 0.0237 - accuracy: 0.9985 - val_loss: 0.0850 - val_accuracy: 0.9700\n",
            "Epoch 3/5\n",
            "16/16 [==============================] - 8s 496ms/step - loss: 0.0090 - accuracy: 1.0000 - val_loss: 0.1125 - val_accuracy: 0.9650\n",
            "Epoch 4/5\n",
            "16/16 [==============================] - 8s 492ms/step - loss: 0.0049 - accuracy: 1.0000 - val_loss: 0.1105 - val_accuracy: 0.9660\n",
            "Epoch 5/5\n",
            "16/16 [==============================] - 8s 488ms/step - loss: 0.0014 - accuracy: 1.0000 - val_loss: 0.1296 - val_accuracy: 0.9670\n"
          ],
          "name": "stdout"
        },
        {
          "output_type": "execute_result",
          "data": {
            "text/plain": [
              "<tensorflow.python.keras.callbacks.History at 0x7efc42270950>"
            ]
          },
          "metadata": {
            "tags": []
          },
          "execution_count": 37
        }
      ]
    },
    {
      "cell_type": "code",
      "metadata": {
        "colab": {
          "base_uri": "https://localhost:8080/"
        },
        "id": "EVnlOma_KRrD",
        "outputId": "4850ab87-c0a9-44fa-dc28-d9630470741d"
      },
      "source": [
        "model.save('model.h5')  # creates a HDF5 file 'model.h5'\n",
        "del model  # deletes the existing model\n",
        "\n",
        "model = tf.keras.models.load_model('model.h5')"
      ],
      "execution_count": 38,
      "outputs": [
        {
          "output_type": "stream",
          "text": [
            "/usr/local/lib/python3.7/dist-packages/tensorflow/python/keras/utils/generic_utils.py:497: CustomMaskWarning: Custom mask layers require a config and must override get_config. When loading, the custom mask layer must be passed to the custom_objects argument.\n",
            "  category=CustomMaskWarning)\n"
          ],
          "name": "stderr"
        }
      ]
    },
    {
      "cell_type": "code",
      "metadata": {
        "id": "wZc0-bUgE66_",
        "colab": {
          "base_uri": "https://localhost:8080/"
        },
        "outputId": "5c049dab-a4f4-4493-aa22-baebc3d10e57"
      },
      "source": [
        "valid_loss, valid_accuracy = model.evaluate(valid_generator)"
      ],
      "execution_count": 39,
      "outputs": [
        {
          "output_type": "stream",
          "text": [
            "8/8 [==============================] - 3s 313ms/step - loss: 0.1296 - accuracy: 0.9670\n"
          ],
          "name": "stdout"
        }
      ]
    },
    {
      "cell_type": "code",
      "metadata": {
        "id": "atyMcD15FyzT",
        "colab": {
          "base_uri": "https://localhost:8080/"
        },
        "outputId": "2a4d71a3-48a4-488a-fbdd-6b3926de8364"
      },
      "source": [
        "print(\"Validation accuracy after fine tuning: {}\".format(valid_accuracy))"
      ],
      "execution_count": 40,
      "outputs": [
        {
          "output_type": "stream",
          "text": [
            "Validation accuracy after fine tuning: 0.9670000076293945\n"
          ],
          "name": "stdout"
        }
      ]
    }
  ]
}